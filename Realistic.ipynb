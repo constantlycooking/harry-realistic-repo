{
  "cells": [
    {
      "cell_type": "markdown",
      "id": "aXkyHwhh_Xyj",
      "metadata": {
        "id": "aXkyHwhh_Xyj"
      },
      "source": [
        "# Clone"
      ]
    },
    {
      "cell_type": "code",
      "execution_count": null,
      "id": "-ifdsmDl_PKg",
      "metadata": {
        "id": "-ifdsmDl_PKg",
        "scrolled": true
      },
      "outputs": [],
      "source": [
        "%cd /root\n",
        "!git clone https://github.com/constantlycooking/harry-realistic-repo\n",
        "%cd Realistic"
      ]
    },
    {
      "cell_type": "markdown",
      "id": "bOelajtU_buC",
      "metadata": {
        "id": "bOelajtU_buC"
      },
      "source": [
        "# Requirements"
      ]
    },
    {
      "cell_type": "code",
      "execution_count": null,
      "id": "OmCTepr6_q4a",
      "metadata": {
        "id": "OmCTepr6_q4a"
      },
      "outputs": [],
      "source": []
    },
    {
      "cell_type": "code",
      "execution_count": null,
      "id": "zMzAKtOR_PKj",
      "metadata": {
        "id": "zMzAKtOR_PKj",
        "scrolled": true
      },
      "outputs": [],
      "source": [
        "!pip install -r requirements.txt\n",
        "!pip install spaces"
      ]
    },
    {
      "cell_type": "markdown",
      "id": "vg1VNzKQ_ioC",
      "metadata": {
        "id": "vg1VNzKQ_ioC"
      },
      "source": [
        "# Main"
      ]
    },
    {
      "cell_type": "code",
      "execution_count": null,
      "id": "d5q1aVOT_PKk",
      "metadata": {
        "id": "d5q1aVOT_PKk",
        "scrolled": true
      },
      "outputs": [],
      "source": [
        "!python app.py --share"
      ]
    }
  ],
  "metadata": {
    "colab": {
      "provenance": []
    },
    "kernelspec": {
      "display_name": "Python",
      "language": "python",
      "name": "python3"
    },
    "language_info": {
      "codemirror_mode": {
        "name": "ipython",
        "version": 3
      },
      "file_extension": ".py",
      "mimetype": "text/x-python",
      "name": "python",
      "nbconvert_exporter": "python",
      "pygments_lexer": "ipython3"
    }
  },
  "nbformat": 4,
  "nbformat_minor": 5
}
