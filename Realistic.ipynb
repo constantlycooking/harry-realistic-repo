{
  "cells": [
    {
      "cell_type": "code",
      "execution_count": null,
      "id": "9016bb3e",
      "metadata": {
        "vscode": {
          "languageId": "plaintext"
        }
      },
      "outputs": [],
      "source": [
        "%cd /root\n",
        "!git clone https://github.com/constantlycooking/harry-realistic-repo\n",
        "%cd harry-realistic-repo\n",
        "\n",
        "\n",
        "# Requirements\n",
        "\n",
        "!pip install -r requirements.txt\n",
        "!pip install spaces\n",
        "\n",
        "\n",
        "# Main\n",
        "\n",
        "!python app.py --share\n",
        "\n"
      ]
    }
  ],
  "metadata": {
    "colab": {
      "provenance": []
    },
    "kernelspec": {
      "display_name": "Python",
      "language": "python",
      "name": "python3"
    },
    "language_info": {
      "codemirror_mode": {
        "name": "ipython",
        "version": 3
      },
      "file_extension": ".py",
      "mimetype": "text/x-python",
      "name": "python",
      "nbconvert_exporter": "python",
      "pygments_lexer": "ipython3"
    }
  },
  "nbformat": 4,
  "nbformat_minor": 5
}
